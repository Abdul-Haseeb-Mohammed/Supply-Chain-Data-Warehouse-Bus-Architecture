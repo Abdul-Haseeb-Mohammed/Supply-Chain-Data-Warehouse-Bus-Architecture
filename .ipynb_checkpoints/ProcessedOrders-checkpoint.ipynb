{
 "cells": [
  {
   "cell_type": "code",
   "execution_count": 1,
   "id": "3987a5cc-4c2c-4187-ac61-87426a21e986",
   "metadata": {},
   "outputs": [],
   "source": [
    "import pandas as pd\n",
    "import numpy as np\n",
    "\n",
    "# Load your dataset into a DataFrame\n",
    "df = pd.read_csv('DataCoSupplyChainDataset.csv', encoding='latin-1')"
   ]
  },
  {
   "cell_type": "code",
   "execution_count": 2,
   "id": "19c90d20-b8b1-4aa8-b4d0-5120ff49bba3",
   "metadata": {},
   "outputs": [
    {
     "data": {
      "text/plain": [
       "65752"
      ]
     },
     "execution_count": 2,
     "metadata": {},
     "output_type": "execute_result"
    }
   ],
   "source": [
    "df['Order Id'].nunique()"
   ]
  },
  {
   "cell_type": "code",
   "execution_count": 3,
   "id": "e96d855c-d16c-4026-8dae-4ff5f5729140",
   "metadata": {},
   "outputs": [
    {
     "name": "stdout",
     "output_type": "stream",
     "text": [
      "  Order Id  Order Date  Quantity (items)  Sales (After discount)  \\\n",
      "0       O1  2015-01-01                 1              239.979996   \n",
      "1       O2  2015-01-01                 7              529.380005   \n",
      "2       O4  2015-01-01                14              620.870014   \n",
      "3       O5  2015-01-01                10              987.070007   \n",
      "4       O7  2015-01-01                 7              525.520004   \n",
      "\n",
      "   Discount Amount  Total Profit     Order Status Customer Id  \\\n",
      "0        60.000000     88.790001           CLOSED      C11599   \n",
      "1        50.600000    195.900002  PENDING_PAYMENT        C256   \n",
      "2        78.980000    124.090000           CLOSED       C8827   \n",
      "3       142.789999    390.089995         COMPLETE      C11318   \n",
      "4        54.400000    203.929998         COMPLETE       C4530   \n",
      "\n",
      "  Transaction Type Customer Segment  Sales (before Discount) Market  \\\n",
      "0             CASH         Consumer               299.980011  LATAM   \n",
      "1          PAYMENT         Consumer               579.980011  LATAM   \n",
      "2             CASH      Home Office               699.850010  LATAM   \n",
      "3            DEBIT         Consumer              1129.860039  LATAM   \n",
      "4            DEBIT         Consumer               579.920013  LATAM   \n",
      "\n",
      "  Department Id  \n",
      "0            D7  \n",
      "1            D7  \n",
      "2            D6  \n",
      "3            D4  \n",
      "4            D7  \n"
     ]
    }
   ],
   "source": [
    "# Convert 'order date (DateOrders)' to datetime format and extract date only\n",
    "df['order date (DateOrders)'] = pd.to_datetime(df['order date (DateOrders)']).dt.date\n",
    "\n",
    "# Group by 'Order Id' and aggregate metrics and additional columns\n",
    "fact_order = df.groupby('Order Id').agg({\n",
    "    'order date (DateOrders)': 'first',\n",
    "    'Order Item Quantity': 'sum',\n",
    "    'Order Item Total': 'sum',\n",
    "    'Order Item Discount':'sum',\n",
    "    'Order Profit Per Order': 'sum',\n",
    "    'Order Status': 'last',  # Retain the last status as 'Final Order Status\n",
    "    'Customer Id': 'first',\n",
    "    'Type': 'first',\n",
    "    'Customer Segment': 'first',\n",
    "    'Sales': 'sum', \n",
    "    'Market': 'first',\n",
    "    'Department Id': 'first'\n",
    "}).reset_index()\n",
    "\n",
    "# Add prefix 'O' to 'Order Id' and 'C' to 'Customer Id' and 'D' to 'Department Id'\n",
    "fact_order['Order Id'] = fact_order['Order Id'].apply(lambda x: 'O' + str(x))\n",
    "fact_order['Customer Id'] = fact_order['Customer Id'].apply(lambda x: 'C' + str(x))\n",
    "fact_order['Department Id'] = fact_order['Department Id'].apply(lambda x: 'D' + str(x))\n",
    "\n",
    "# Rename columns to match the FactOrder schema\n",
    "fact_order.rename(columns={\n",
    "    'Order Id': 'Order Id',\n",
    "    'order date (DateOrders)': 'Order Date',\n",
    "    'Order Item Quantity': 'Quantity (items)',\n",
    "    'Order Item Total': 'Sales (After discount)',\n",
    "    'Order Item Discount':'Discount Amount',\n",
    "    'Order Profit Per Order': 'Total Profit',\n",
    "    'Order Status': 'Order Status',\n",
    "    'Customer Id': 'Customer Id',\n",
    "    'Type': 'Transaction Type',\n",
    "    'Customer Segment': 'Customer Segment',\n",
    "    'Sales': 'Sales (before Discount)',\n",
    "    'Market': 'Market',\n",
    "    'Department Id': 'Department Id'\n",
    "}, inplace=True)\n",
    "\n",
    "# Display the first few rows of the fact_order DataFrame\n",
    "print(fact_order.head())"
   ]
  },
  {
   "cell_type": "code",
   "execution_count": 4,
   "id": "732f0979-a6d2-4043-a956-6fe9e7d3a376",
   "metadata": {},
   "outputs": [
    {
     "name": "stdout",
     "output_type": "stream",
     "text": [
      "Order Fact table saved successfully\n"
     ]
    }
   ],
   "source": [
    "fact_order.to_excel('ProcessedOrderFact.xlsx', index=False)\n",
    "\n",
    "print(\"Order Fact table saved successfully\")"
   ]
  },
  {
   "cell_type": "code",
   "execution_count": 5,
   "id": "e8f935d6-74c1-477d-9a87-0675c0e367c7",
   "metadata": {},
   "outputs": [
    {
     "data": {
      "text/plain": [
       "65752"
      ]
     },
     "execution_count": 5,
     "metadata": {},
     "output_type": "execute_result"
    }
   ],
   "source": [
    "len(fact_order)"
   ]
  }
 ],
 "metadata": {
  "kernelspec": {
   "display_name": "Python 3 (ipykernel)",
   "language": "python",
   "name": "python3"
  },
  "language_info": {
   "codemirror_mode": {
    "name": "ipython",
    "version": 3
   },
   "file_extension": ".py",
   "mimetype": "text/x-python",
   "name": "python",
   "nbconvert_exporter": "python",
   "pygments_lexer": "ipython3",
   "version": "3.11.5"
  }
 },
 "nbformat": 4,
 "nbformat_minor": 5
}
