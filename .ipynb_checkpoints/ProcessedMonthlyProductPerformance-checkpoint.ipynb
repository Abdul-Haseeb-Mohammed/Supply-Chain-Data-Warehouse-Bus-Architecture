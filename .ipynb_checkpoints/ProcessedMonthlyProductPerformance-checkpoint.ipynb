{
 "cells": [
  {
   "cell_type": "code",
   "execution_count": 1,
   "id": "1da5a79a-cefd-4586-8b86-d1e36e77e637",
   "metadata": {},
   "outputs": [],
   "source": [
    "import pandas as pd\n",
    "import numpy as np\n",
    "\n",
    "# Load dataset into a DataFrame\n",
    "df = pd.read_csv('DataCoSupplyChainDataset.csv', encoding='latin-1')"
   ]
  },
  {
   "cell_type": "code",
   "execution_count": 2,
   "id": "18ff4559-5f3a-449c-bfe3-3d5eeb6326df",
   "metadata": {},
   "outputs": [
    {
     "ename": "NameError",
     "evalue": "name 'payment_df' is not defined",
     "output_type": "error",
     "traceback": [
      "\u001b[1;31m---------------------------------------------------------------------------\u001b[0m",
      "\u001b[1;31mNameError\u001b[0m                                 Traceback (most recent call last)",
      "Cell \u001b[1;32mIn[2], line 45\u001b[0m\n\u001b[0;32m     29\u001b[0m fact_product_monthly\u001b[38;5;241m.\u001b[39mrename(columns\u001b[38;5;241m=\u001b[39m{\n\u001b[0;32m     30\u001b[0m     \u001b[38;5;124m'\u001b[39m\u001b[38;5;124mProduct Card Id\u001b[39m\u001b[38;5;124m'\u001b[39m: \u001b[38;5;124m'\u001b[39m\u001b[38;5;124mProduct Id\u001b[39m\u001b[38;5;124m'\u001b[39m,\n\u001b[0;32m     31\u001b[0m     \u001b[38;5;124m'\u001b[39m\u001b[38;5;124mDepartment Id\u001b[39m\u001b[38;5;124m'\u001b[39m: \u001b[38;5;124m'\u001b[39m\u001b[38;5;124mDepartment Id\u001b[39m\u001b[38;5;124m'\u001b[39m,\n\u001b[1;32m   (...)\u001b[0m\n\u001b[0;32m     41\u001b[0m     \u001b[38;5;124m'\u001b[39m\u001b[38;5;124mOrder Id\u001b[39m\u001b[38;5;124m'\u001b[39m: \u001b[38;5;124m'\u001b[39m\u001b[38;5;124mOrder Count\u001b[39m\u001b[38;5;124m'\u001b[39m,\n\u001b[0;32m     42\u001b[0m }, inplace\u001b[38;5;241m=\u001b[39m\u001b[38;5;28;01mTrue\u001b[39;00m)\n\u001b[0;32m     44\u001b[0m \u001b[38;5;66;03m# Add prefix of 'D' to Department Id\u001b[39;00m\n\u001b[1;32m---> 45\u001b[0m payment_df[\u001b[38;5;124m'\u001b[39m\u001b[38;5;124mDepartment Id\u001b[39m\u001b[38;5;124m'\u001b[39m] \u001b[38;5;241m=\u001b[39m \u001b[38;5;124m'\u001b[39m\u001b[38;5;124mD\u001b[39m\u001b[38;5;124m'\u001b[39m \u001b[38;5;241m+\u001b[39m payment_df[\u001b[38;5;124m'\u001b[39m\u001b[38;5;124mDepartment Id\u001b[39m\u001b[38;5;124m'\u001b[39m]\u001b[38;5;241m.\u001b[39mastype(\u001b[38;5;28mstr\u001b[39m)\n\u001b[0;32m     47\u001b[0m \u001b[38;5;66;03m# Display the first few rows of the fact_product_performance_monthly DataFrame\u001b[39;00m\n\u001b[0;32m     48\u001b[0m \u001b[38;5;28mprint\u001b[39m(fact_product_monthly\u001b[38;5;241m.\u001b[39mhead())\n",
      "\u001b[1;31mNameError\u001b[0m: name 'payment_df' is not defined"
     ]
    }
   ],
   "source": [
    "# Convert 'DateOrders' to datetime format\n",
    "df['order date (DateOrders)'] = pd.to_datetime(df['order date (DateOrders)'])\n",
    "\n",
    "# Extract year and month from 'DateOrders'\n",
    "df['Year'] = df['order date (DateOrders)'].dt.year\n",
    "df['Month'] = df['order date (DateOrders)'].dt.month\n",
    "\n",
    "# Group by 'Year', 'Month', 'Product Card Id', and 'Department Id' and aggregate metrics\n",
    "fact_product_monthly = df.groupby(['Year', 'Month', 'Product Card Id', 'Department Id']).agg({\n",
    "    'Product Image': 'first',\n",
    "    'Product Name': 'first',\n",
    "    'Product Price': 'first',\n",
    "    'Category Id': 'first',\n",
    "    'Sales': 'sum',\n",
    "    'Order Item Quantity': 'sum',\n",
    "    'Order Item Discount': 'sum',\n",
    "    'Order Item Total': 'sum',\n",
    "    'Order Profit Per Order': 'sum',\n",
    "    'Order Id': 'nunique'            # Count of unique order ids for each product\n",
    "}).reset_index()\n",
    "\n",
    "# Create a Date column combining Year and Month\n",
    "fact_product_monthly['Date'] = pd.to_datetime(fact_product_monthly[['Year', 'Month']].assign(day=1))\n",
    "\n",
    "# Drop 'Year' and 'Month' columns\n",
    "fact_product_monthly.drop(['Year', 'Month'], axis=1, inplace=True)\n",
    "\n",
    "# Rename columns for better understanding\n",
    "fact_product_monthly.rename(columns={\n",
    "    'Product Card Id': 'Product Id',\n",
    "    'Department Id': 'Department Id',\n",
    "    'Category Id': 'Category Id',\n",
    "    'Product Image': 'Product Image',\n",
    "    'Product Name': 'Product Name',\n",
    "    'Product Price': 'Product Price',\n",
    "    'Sales': 'Total Sales (before discount)',\n",
    "    'Order Item Quantity': 'Units Sold',\n",
    "    'Order Item Discount': 'Amount Discounted',\n",
    "    'Order Item Total': 'Total Sales (After Discount)',\n",
    "    'Order Profit Per Order': 'Total Profit',\n",
    "    'Order Id': 'Order Count',\n",
    "}, inplace=True)\n",
    "\n",
    "# Add prefix of 'D' to Department Id\n",
    "fact_product_monthly['Department Id'] = 'D' + fact_product_monthly['Department Id'].astype(str)\n",
    "\n",
    "# Display the first few rows of the fact_product_performance_monthly DataFrame\n",
    "print(fact_product_monthly.head())"
   ]
  },
  {
   "cell_type": "code",
   "execution_count": null,
   "id": "a3ade3e3-19cc-43fe-bbc8-499ba817e45d",
   "metadata": {},
   "outputs": [],
   "source": [
    "fact_product_monthly.describe()"
   ]
  },
  {
   "cell_type": "code",
   "execution_count": null,
   "id": "0b1070e2-bf52-412b-927b-0344573d616d",
   "metadata": {},
   "outputs": [],
   "source": [
    "len(fact_product_monthly)"
   ]
  },
  {
   "cell_type": "code",
   "execution_count": null,
   "id": "9acdcc89-04a8-43f7-b8aa-b16e99c759c6",
   "metadata": {},
   "outputs": [],
   "source": [
    "fact_product_monthly.to_excel('ProcessedMonthlyProductPeformanceFact.xlsx', index=False)\n",
    "\n",
    "print(\"Monthly Product Performance Fact table saved successfully\")"
   ]
  }
 ],
 "metadata": {
  "kernelspec": {
   "display_name": "Python 3 (ipykernel)",
   "language": "python",
   "name": "python3"
  },
  "language_info": {
   "codemirror_mode": {
    "name": "ipython",
    "version": 3
   },
   "file_extension": ".py",
   "mimetype": "text/x-python",
   "name": "python",
   "nbconvert_exporter": "python",
   "pygments_lexer": "ipython3",
   "version": "3.11.5"
  }
 },
 "nbformat": 4,
 "nbformat_minor": 5
}
