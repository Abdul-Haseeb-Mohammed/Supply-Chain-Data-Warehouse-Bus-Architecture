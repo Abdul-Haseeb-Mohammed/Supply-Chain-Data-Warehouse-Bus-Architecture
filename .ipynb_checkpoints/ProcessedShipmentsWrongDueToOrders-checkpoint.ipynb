{
 "cells": [
  {
   "cell_type": "code",
   "execution_count": null,
   "id": "a5016494-548d-46b0-b80e-1875523b45cc",
   "metadata": {},
   "outputs": [],
   "source": [
    "F, AQ"
   ]
  },
  {
   "cell_type": "code",
   "execution_count": null,
   "id": "a6dd03af-d96c-4c59-bb84-fcb4de12ad54",
   "metadata": {},
   "outputs": [],
   "source": [
    "shipping date (DateOrders)\n",
    "Order Status\n"
   ]
  },
  {
   "cell_type": "code",
   "execution_count": 1,
   "id": "3987a5cc-4c2c-4187-ac61-87426a21e986",
   "metadata": {},
   "outputs": [],
   "source": [
    "import pandas as pd\n",
    "import numpy as np\n",
    "\n",
    "# Load your dataset into a DataFrame (replace with your actual data loading logic)\n",
    "df = pd.read_csv('DataCoSupplyChainDataset.csv', encoding='latin-1')"
   ]
  },
  {
   "cell_type": "code",
   "execution_count": 2,
   "id": "fcdac52f-e332-41bf-ac28-672f33553d67",
   "metadata": {},
   "outputs": [
    {
     "data": {
      "text/plain": [
       "array(['COMPLETE', 'PENDING', 'CLOSED', 'PENDING_PAYMENT', 'CANCELED',\n",
       "       'PROCESSING', 'SUSPECTED_FRAUD', 'ON_HOLD', 'PAYMENT_REVIEW'],\n",
       "      dtype=object)"
      ]
     },
     "execution_count": 2,
     "metadata": {},
     "output_type": "execute_result"
    }
   ],
   "source": [
    "df['Order Status'].unique()"
   ]
  },
  {
   "cell_type": "code",
   "execution_count": 3,
   "id": "d8891b3e-a95b-4d84-8668-dfa4e19e83fd",
   "metadata": {},
   "outputs": [
    {
     "data": {
      "text/plain": [
       "array(['Advance shipping', 'Late delivery', 'Shipping on time',\n",
       "       'Shipping canceled'], dtype=object)"
      ]
     },
     "execution_count": 3,
     "metadata": {},
     "output_type": "execute_result"
    }
   ],
   "source": [
    "df['Delivery Status'].unique()"
   ]
  },
  {
   "cell_type": "code",
   "execution_count": 4,
   "id": "f92bf638-f855-4b30-bb6e-2a706d0c742f",
   "metadata": {},
   "outputs": [
    {
     "data": {
      "text/plain": [
       "Index(['Type', 'Days for shipping (real)', 'Days for shipment (scheduled)',\n",
       "       'Benefit per order', 'Sales per customer', 'Delivery Status',\n",
       "       'Late_delivery_risk', 'Category Id', 'Category Name', 'Customer City',\n",
       "       'Customer Country', 'Customer Email', 'Customer Fname', 'Customer Id',\n",
       "       'Customer Lname', 'Customer Password', 'Customer Segment',\n",
       "       'Customer State', 'Customer Street', 'Customer Zipcode',\n",
       "       'Department Id', 'Department Name', 'Latitude', 'Longitude', 'Market',\n",
       "       'Order City', 'Order Country', 'Order Customer Id',\n",
       "       'order date (DateOrders)', 'Order Id', 'Order Item Cardprod Id',\n",
       "       'Order Item Discount', 'Order Item Discount Rate', 'Order Item Id',\n",
       "       'Order Item Product Price', 'Order Item Profit Ratio',\n",
       "       'Order Item Quantity', 'Sales', 'Order Item Total',\n",
       "       'Order Profit Per Order', 'Order Region', 'Order State', 'Order Status',\n",
       "       'Order Zipcode', 'Product Card Id', 'Product Category Id',\n",
       "       'Product Description', 'Product Image', 'Product Name', 'Product Price',\n",
       "       'Product Status', 'shipping date (DateOrders)', 'Shipping Mode'],\n",
       "      dtype='object')"
      ]
     },
     "execution_count": 4,
     "metadata": {},
     "output_type": "execute_result"
    }
   ],
   "source": [
    "df.columns"
   ]
  },
  {
   "cell_type": "code",
   "execution_count": 5,
   "id": "e96d855c-d16c-4026-8dae-4ff5f5729140",
   "metadata": {},
   "outputs": [
    {
     "name": "stdout",
     "output_type": "stream",
     "text": [
      "   Order Id  Order Date  Total Order Item Quantity  Total Order Item Total  \\\n",
      "0         1  2015-01-01                          1              239.979996   \n",
      "1         2  2015-01-01                          7              529.380005   \n",
      "2         4  2015-01-01                         14              620.870014   \n",
      "3         5  2015-01-01                         10              987.070007   \n",
      "4         7  2015-01-01                          7              525.520004   \n",
      "\n",
      "   Total Order Profit Total Final Order Status  Customer Id     Type  \\\n",
      "0                 88.790001             CLOSED        11599     CASH   \n",
      "1                195.900002    PENDING_PAYMENT          256  PAYMENT   \n",
      "2                124.090000             CLOSED         8827     CASH   \n",
      "3                390.089995           COMPLETE        11318    DEBIT   \n",
      "4                203.929998           COMPLETE         4530    DEBIT   \n",
      "\n",
      "  Customer Segment   Sum(Sales) Market     Order City Order Country  \\\n",
      "0         Consumer   299.980011  LATAM    Mexico City        México   \n",
      "1         Consumer   579.980011  LATAM  Dos Quebradas      Colombia   \n",
      "2      Home Office   699.850010  LATAM  Dos Quebradas      Colombia   \n",
      "3         Consumer  1129.860039  LATAM  Dos Quebradas      Colombia   \n",
      "4         Consumer   579.920013  LATAM      São Paulo        Brasil   \n",
      "\n",
      "      Order Region  \n",
      "0  Central America  \n",
      "1    South America  \n",
      "2    South America  \n",
      "3    South America  \n",
      "4    South America  \n"
     ]
    }
   ],
   "source": [
    "# Convert 'order date (DateOrders)' to datetime format and extract date only\n",
    "df['order date (DateOrders)'] = pd.to_datetime(df['order date (DateOrders)']).dt.date\n",
    "\n",
    "# Group by 'Order Id' and aggregate metrics and additional columns\n",
    "fact_order = df.groupby('Order Id').agg({\n",
    "    'order date (DateOrders)': 'first',  # Take the first date as 'Order Date'\n",
    "    'Order Item Quantity': 'sum',\n",
    "    'Order Item Total': 'sum',\n",
    "    'Order Profit Per Order': 'sum',\n",
    "    'Order Status': 'last',  # Retain the last status as 'Final Order Status'\n",
    "    'Customer Id': 'first',\n",
    "    'Type': 'first',\n",
    "    'Customer Segment': 'first',\n",
    "    'Sales': 'sum',  # Sum of sales for each order\n",
    "    'Market': 'first',\n",
    "    'Order City': 'first',\n",
    "    'Order Country': 'first',\n",
    "    'Order Region': 'first'\n",
    "}).reset_index()\n",
    "\n",
    "# Rename columns to match the FactOrder schema\n",
    "fact_order.rename(columns={\n",
    "    'Order Id': 'Order Id',\n",
    "    'order date (DateOrders)': 'Order Date',\n",
    "    'Order Item Quantity': 'Total Order Item Quantity',\n",
    "    'Order Item Total': 'Order Item Total (before tax)',\n",
    "    'Order Profit Per Order': 'Total Order Profit',\n",
    "    'Order Status': 'Final Order Status',\n",
    "    'Customer Id': 'Customer Id',\n",
    "    'Type': 'Type',\n",
    "    'Customer Segment': 'Customer Segment',\n",
    "    'Sales': 'Sales (after Tax)',\n",
    "    'Market': 'Market',\n",
    "    'Order City': 'Order City',\n",
    "    'Order Country': 'Order Country',\n",
    "    'Order Region': 'Order Region'\n",
    "}, inplace=True)\n",
    "\n",
    "# Display the first few rows of the fact_order DataFrame\n",
    "print(fact_order.head())\n"
   ]
  },
  {
   "cell_type": "code",
   "execution_count": 7,
   "id": "732f0979-a6d2-4043-a956-6fe9e7d3a376",
   "metadata": {},
   "outputs": [
    {
     "name": "stdout",
     "output_type": "stream",
     "text": [
      "Order Fact table saved successfully\n"
     ]
    }
   ],
   "source": [
    "fact_order.to_excel('ProcessedOrderFact.xlsx', index=False)\n",
    "\n",
    "print(\"Order Fact table saved successfully\")"
   ]
  },
  {
   "cell_type": "code",
   "execution_count": 8,
   "id": "e8f935d6-74c1-477d-9a87-0675c0e367c7",
   "metadata": {},
   "outputs": [
    {
     "data": {
      "text/plain": [
       "65752"
      ]
     },
     "execution_count": 8,
     "metadata": {},
     "output_type": "execute_result"
    }
   ],
   "source": [
    "len(fact_order)"
   ]
  }
 ],
 "metadata": {
  "kernelspec": {
   "display_name": "Python 3 (ipykernel)",
   "language": "python",
   "name": "python3"
  },
  "language_info": {
   "codemirror_mode": {
    "name": "ipython",
    "version": 3
   },
   "file_extension": ".py",
   "mimetype": "text/x-python",
   "name": "python",
   "nbconvert_exporter": "python",
   "pygments_lexer": "ipython3",
   "version": "3.11.5"
  }
 },
 "nbformat": 4,
 "nbformat_minor": 5
}
