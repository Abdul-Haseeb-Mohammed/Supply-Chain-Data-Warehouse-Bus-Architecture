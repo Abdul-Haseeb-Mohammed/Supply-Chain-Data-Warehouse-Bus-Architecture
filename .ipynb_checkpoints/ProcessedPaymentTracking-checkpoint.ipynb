{
 "cells": [
  {
   "cell_type": "code",
   "execution_count": 1,
   "id": "7c5fe720-e62a-43db-924f-dcbfd43351fd",
   "metadata": {},
   "outputs": [
    {
     "name": "stdout",
     "output_type": "stream",
     "text": [
      "  Order Id Customer Id Customer Segment                Date Transaction Type  \\\n",
      "0       O1      C11599         Consumer 2015-01-01 00:00:00             CASH   \n",
      "1       O2        C256         Consumer 2015-01-01 00:21:00          PAYMENT   \n",
      "2       O4       C8827      Home Office 2015-01-01 01:03:00             CASH   \n",
      "3       O5      C11318         Consumer 2015-01-01 01:24:00            DEBIT   \n",
      "4       O5      C11318         Consumer 2015-01-01 01:25:42            DEBIT   \n",
      "\n",
      "  Department Id Market  PENDING  PROCESSING  PAYMENT_REVIEW  ON_HOLD  \\\n",
      "0            D7  LATAM    False       False           False    False   \n",
      "1            D7  LATAM     True       False           False    False   \n",
      "2            D6  LATAM    False       False           False    False   \n",
      "3            D4  LATAM     True       False           False    False   \n",
      "4            D4  LATAM    False        True           False    False   \n",
      "\n",
      "   SUSPECTED_FRAUD  COMPLETE  CLOSED  CANCELED  \n",
      "0            False      True   False     False  \n",
      "1            False     False   False     False  \n",
      "2            False      True   False     False  \n",
      "3            False     False   False     False  \n",
      "4            False     False   False     False  \n"
     ]
    }
   ],
   "source": [
    "import pandas as pd\n",
    "import numpy as np\n",
    "import random\n",
    "from datetime import timedelta\n",
    "\n",
    "# Load your dataset into a DataFrame\n",
    "df = pd.read_csv('DataCoSupplyChainDataset.csv', encoding='latin-1')\n",
    "\n",
    "# Convert order dates to datetime\n",
    "df['order date (DateOrders)'] = pd.to_datetime(df['order date (DateOrders)'])\n",
    "\n",
    "# Sort the dataframe by 'Order Id' and 'order date (DateOrders)'\n",
    "df.sort_values(by=['Order Id', 'order date (DateOrders)'], inplace=True)\n",
    "\n",
    "# Aggregate by 'Order Id' and keep the first value for relevant columns\n",
    "agg_df = df.groupby('Order Id').agg({\n",
    "    'order date (DateOrders)': 'first',\n",
    "    'Customer Id': 'first',\n",
    "    'Customer Segment': 'first',\n",
    "    'Order Status': 'first',\n",
    "    'Type': 'first',\n",
    "    'Department Id': 'first',\n",
    "    'Market': 'first'\n",
    "}).reset_index()\n",
    "\n",
    "# Define the mapping for the new payment states\n",
    "payment_state_mapping = {\n",
    "    'COMPLETE': ['PENDING', 'PROCESSING', 'COMPLETE'],\n",
    "    'PENDING': ['PENDING'],\n",
    "    'CLOSED': ['PENDING', 'PROCESSING', 'COMPLETE', 'CLOSED'],\n",
    "    'PENDING_PAYMENT': ['PENDING'],\n",
    "    'CANCELED': ['PENDING', 'PROCESSING', 'CANCELED'],\n",
    "    'PROCESSING': ['PENDING', 'PROCESSING'],\n",
    "    'SUSPECTED_FRAUD': ['PENDING', 'PROCESSING', 'SUSPECTED_FRAUD'],\n",
    "    'ON_HOLD': ['PENDING', 'PROCESSING', 'ON_HOLD'],\n",
    "    'PAYMENT_REVIEW': ['PENDING', 'PROCESSING', 'PAYMENT_REVIEW']\n",
    "}\n",
    "\n",
    "# Define maximum state transition time (in seconds)\n",
    "max_transition_time = 300  # 5 minutes\n",
    "\n",
    "# Define a function to create the new records with appropriate intervals based on transaction type\n",
    "def create_payment_records(row):\n",
    "    order_date = row['order date (DateOrders)']\n",
    "    order_id = row['Order Id']\n",
    "    customer_id = row['Customer Id']\n",
    "    transaction_type = row['Type']\n",
    "    department_id = row['Department Id']\n",
    "    market = row['Market']\n",
    "    customer_segment = row['Customer Segment']\n",
    "    \n",
    "    # Determine the states based on the original payment status\n",
    "    states = payment_state_mapping[row['Order Status']]\n",
    "    \n",
    "    # Initialize the list of dates with the order date\n",
    "    dates = [order_date]\n",
    "    \n",
    "    # Adjust interval based on transaction type\n",
    "    if transaction_type == 'CASH':\n",
    "        # Process and complete quickly, within 10 to 30 seconds\n",
    "        random_interval = timedelta(seconds=random.randint(10, 30))\n",
    "        \n",
    "        # Add 'COMPLETE' state for 'CASH' type\n",
    "        states = ['COMPLETE']\n",
    "    else:\n",
    "        # Standard processing time, max 1 hour (3600 seconds)\n",
    "        random_interval = timedelta(seconds=random.randint(1, 3600))\n",
    "        \n",
    "        # Generate subsequent dates for other transaction types, limited by max_transition_time\n",
    "        for _ in range(1, len(states)):\n",
    "            transition_interval = timedelta(seconds=random.randint(1, max_transition_time))\n",
    "            dates.append(dates[-1] + transition_interval)\n",
    "    \n",
    "    # Create new records\n",
    "    new_records = []\n",
    "    for i, state in enumerate(states):\n",
    "        record = {\n",
    "            'Order Id': order_id,\n",
    "            'Customer Id': customer_id,\n",
    "            'Customer Segment':customer_segment,\n",
    "            'Date': dates[i],\n",
    "            'Transaction Type': transaction_type,\n",
    "            'Department Id': department_id,\n",
    "            'Market': market,\n",
    "            'PENDING': state == 'PENDING',\n",
    "            'PROCESSING': state == 'PROCESSING',\n",
    "            'PAYMENT_REVIEW': state == 'PAYMENT_REVIEW',\n",
    "            'ON_HOLD': state == 'ON_HOLD',\n",
    "            'SUSPECTED_FRAUD': state == 'SUSPECTED_FRAUD',\n",
    "            'COMPLETE': state == 'COMPLETE',\n",
    "            'CLOSED': state == 'CLOSED',\n",
    "            'CANCELED': state == 'CANCELED'\n",
    "        }\n",
    "        new_records.append(record)\n",
    "    \n",
    "    return new_records\n",
    "\n",
    "# Apply the function to each row and create the new DataFrame\n",
    "payment_records = agg_df.apply(create_payment_records, axis=1)\n",
    "payment_records = [record for sublist in payment_records for record in sublist]  # Flatten the list of lists\n",
    "\n",
    "# Create the final DataFrame\n",
    "payment_df = pd.DataFrame(payment_records)\n",
    "\n",
    "# Add prefixes 'C','O' and 'D' to Customer Id, Order Id and Department Id respectively\n",
    "payment_df['Customer Id'] = 'C' + payment_df['Customer Id'].astype(str)\n",
    "payment_df['Order Id'] = 'O' + payment_df['Order Id'].astype(str)\n",
    "payment_df['Department Id'] = 'D' + payment_df['Department Id'].astype(str)\n",
    "\n",
    "# Display the first few rows of the new DataFrame\n",
    "print(payment_df.head())"
   ]
  },
  {
   "cell_type": "code",
   "execution_count": 2,
   "id": "e8f935d6-74c1-477d-9a87-0675c0e367c7",
   "metadata": {},
   "outputs": [
    {
     "data": {
      "text/plain": [
       "131451"
      ]
     },
     "execution_count": 2,
     "metadata": {},
     "output_type": "execute_result"
    }
   ],
   "source": [
    "len(payment_df)"
   ]
  },
  {
   "cell_type": "code",
   "execution_count": 3,
   "id": "5966cddc-b2ca-4a98-a49f-05f2dd10514b",
   "metadata": {},
   "outputs": [
    {
     "name": "stdout",
     "output_type": "stream",
     "text": [
      "Payment Tracking Fact table saved successfully\n"
     ]
    }
   ],
   "source": [
    "payment_df.to_excel('ProcessedPaymentTracking.xlsx', index=False)\n",
    "\n",
    "print(\"Payment Tracking Fact table saved successfully\")"
   ]
  }
 ],
 "metadata": {
  "kernelspec": {
   "display_name": "Python 3 (ipykernel)",
   "language": "python",
   "name": "python3"
  },
  "language_info": {
   "codemirror_mode": {
    "name": "ipython",
    "version": 3
   },
   "file_extension": ".py",
   "mimetype": "text/x-python",
   "name": "python",
   "nbconvert_exporter": "python",
   "pygments_lexer": "ipython3",
   "version": "3.11.5"
  }
 },
 "nbformat": 4,
 "nbformat_minor": 5
}
