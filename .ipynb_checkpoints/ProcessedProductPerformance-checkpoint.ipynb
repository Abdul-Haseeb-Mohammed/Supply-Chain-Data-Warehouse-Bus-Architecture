{
 "cells": [
  {
   "cell_type": "code",
   "execution_count": 124,
   "id": "98250ea6-23f4-447e-8636-e2076500158d",
   "metadata": {
    "scrolled": true
   },
   "outputs": [],
   "source": [
    "import pandas as pd\n",
    "import numpy as np\n",
    "\n",
    "# Load your dataset into a DataFrame (replace with your actual data loading logic)\n",
    "df = pd.read_csv('DataCoSupplyChainDataset.csv', encoding='latin-1')\n",
    "\n",
    "# Convert 'order date (DateOrders)' to datetime if not already\n",
    "df['order date (DateOrders)'] = pd.to_datetime(df['order date (DateOrders)'])\n",
    "df['Date'] = df['order date (DateOrders)'].dt.date  # Extract date part\n",
    "\n",
    "# Process orders to subtract daily orders from inventory\n",
    "order_df = df.groupby(['Date', 'Product Card Id', 'Department Id'])['Order Item Quantity'].sum().reset_index()\n",
    "order_df.rename(columns={'Order Item Quantity': 'Quantity'}, inplace=True)\n",
    "\n",
    "# Sort order_df by Date to ensure calculations follow chronological order\n",
    "order_df.sort_values(by='Date', inplace=True)\n",
    "\n",
    "# Initialize a dictionary to store initial stock quantities\n",
    "initial_stock = {}\n",
    "\n",
    "# Set initial stock for each combination of Product Card Id and Department Id\n",
    "for (product_id, dept_id), group in order_df.groupby(['Product Card Id', 'Department Id']):\n",
    "    min_date = group['Date'].min()\n",
    "    initial_stock[(product_id, dept_id)] = np.random.randint(200, 1001)  # Random number between 200 and 1000\n",
    "\n",
    "# Add 'In Stock' and 'New Stock Arrival' columns to order_df\n",
    "order_df['In Stock'] = np.nan\n",
    "order_df['New Stock Arrival'] = 0\n",
    "\n",
    "# Iterate through order_df to update 'In Stock' and 'New Stock Arrival'\n",
    "for index, row in order_df.iterrows():\n",
    "    product_id = row['Product Card Id']\n",
    "    department_id = row['Department Id']\n",
    "    date = row['Date']\n",
    "    order_quantity = row['Quantity']\n",
    "    \n",
    "    # Set initial stock if it's the first occurrence for this combination\n",
    "    if date == initial_stock[(product_id, department_id)]:\n",
    "        order_df.loc[index, 'In Stock'] = initial_stock[(product_id, department_id)]\n",
    "    \n",
    "    else:\n",
    "        # Find the previous index with the same product and department\n",
    "        prev_index = order_df[(order_df['Product Card Id'] == product_id) & \n",
    "                              (order_df['Department Id'] == department_id) &\n",
    "                              (order_df['Date'] < date)].index.max()\n",
    "        \n",
    "        if not np.isnan(prev_index):\n",
    "            # Subtract order quantity from 'In Stock' of the previous row\n",
    "            order_df.loc[index, 'In Stock'] = order_df.loc[prev_index, 'In Stock'] - order_quantity\n",
    "            \n",
    "            # Check if 'In Stock' goes below 20 and replenish\n",
    "            if order_df.loc[index, 'In Stock'] < 20:\n",
    "                replenish_amount = np.random.randint(100, 501)  # Random number between 100 and 500\n",
    "                order_df.loc[index, 'In Stock'] += replenish_amount\n",
    "                order_df.loc[index, 'New Stock Arrival'] = 1\n",
    "        else:\n",
    "            # Handle the first occurrence separately if no previous index is found\n",
    "            order_df.loc[index, 'In Stock'] = initial_stock[(product_id, department_id)]"
   ]
  },
  {
   "cell_type": "code",
   "execution_count": 125,
   "id": "44389bae-ddf0-4f88-9fce-ee054042443b",
   "metadata": {},
   "outputs": [
    {
     "data": {
      "text/plain": [
       "22273"
      ]
     },
     "execution_count": 125,
     "metadata": {},
     "output_type": "execute_result"
    }
   ],
   "source": [
    "len(order_df)"
   ]
  },
  {
   "cell_type": "code",
   "execution_count": 126,
   "id": "9a18e60e-8d22-4972-8ca6-a984d352a176",
   "metadata": {},
   "outputs": [
    {
     "data": {
      "text/html": [
       "<div>\n",
       "<style scoped>\n",
       "    .dataframe tbody tr th:only-of-type {\n",
       "        vertical-align: middle;\n",
       "    }\n",
       "\n",
       "    .dataframe tbody tr th {\n",
       "        vertical-align: top;\n",
       "    }\n",
       "\n",
       "    .dataframe thead th {\n",
       "        text-align: right;\n",
       "    }\n",
       "</style>\n",
       "<table border=\"1\" class=\"dataframe\">\n",
       "  <thead>\n",
       "    <tr style=\"text-align: right;\">\n",
       "      <th></th>\n",
       "      <th>Date</th>\n",
       "      <th>Product Card Id</th>\n",
       "      <th>Department Id</th>\n",
       "      <th>Quantity</th>\n",
       "      <th>In Stock</th>\n",
       "      <th>New Stock Arrival</th>\n",
       "    </tr>\n",
       "  </thead>\n",
       "  <tbody>\n",
       "    <tr>\n",
       "      <th>22188</th>\n",
       "      <td>2017-12-02</td>\n",
       "      <td>1360</td>\n",
       "      <td>2</td>\n",
       "      <td>18</td>\n",
       "      <td>562.0</td>\n",
       "      <td>0</td>\n",
       "    </tr>\n",
       "    <tr>\n",
       "      <th>22189</th>\n",
       "      <td>2017-12-03</td>\n",
       "      <td>1360</td>\n",
       "      <td>2</td>\n",
       "      <td>69</td>\n",
       "      <td>493.0</td>\n",
       "      <td>0</td>\n",
       "    </tr>\n",
       "    <tr>\n",
       "      <th>22190</th>\n",
       "      <td>2017-12-04</td>\n",
       "      <td>1360</td>\n",
       "      <td>2</td>\n",
       "      <td>58</td>\n",
       "      <td>435.0</td>\n",
       "      <td>0</td>\n",
       "    </tr>\n",
       "    <tr>\n",
       "      <th>22245</th>\n",
       "      <td>2018-01-10</td>\n",
       "      <td>1360</td>\n",
       "      <td>2</td>\n",
       "      <td>38</td>\n",
       "      <td>397.0</td>\n",
       "      <td>0</td>\n",
       "    </tr>\n",
       "    <tr>\n",
       "      <th>22246</th>\n",
       "      <td>2018-01-11</td>\n",
       "      <td>1360</td>\n",
       "      <td>2</td>\n",
       "      <td>68</td>\n",
       "      <td>329.0</td>\n",
       "      <td>0</td>\n",
       "    </tr>\n",
       "  </tbody>\n",
       "</table>\n",
       "</div>"
      ],
      "text/plain": [
       "             Date  Product Card Id  Department Id  Quantity  In Stock  \\\n",
       "22188  2017-12-02             1360              2        18     562.0   \n",
       "22189  2017-12-03             1360              2        69     493.0   \n",
       "22190  2017-12-04             1360              2        58     435.0   \n",
       "22245  2018-01-10             1360              2        38     397.0   \n",
       "22246  2018-01-11             1360              2        68     329.0   \n",
       "\n",
       "       New Stock Arrival  \n",
       "22188                  0  \n",
       "22189                  0  \n",
       "22190                  0  \n",
       "22245                  0  \n",
       "22246                  0  "
      ]
     },
     "execution_count": 126,
     "metadata": {},
     "output_type": "execute_result"
    }
   ],
   "source": [
    "order_df[(order_df['Department Id'] == 2) & (order_df['Product Card Id'] == 1360)].head()"
   ]
  },
  {
   "cell_type": "code",
   "execution_count": 130,
   "id": "fd40e07b-eb16-448b-b299-9101114b70ed",
   "metadata": {
    "scrolled": true
   },
   "outputs": [
    {
     "data": {
      "text/html": [
       "<div>\n",
       "<style scoped>\n",
       "    .dataframe tbody tr th:only-of-type {\n",
       "        vertical-align: middle;\n",
       "    }\n",
       "\n",
       "    .dataframe tbody tr th {\n",
       "        vertical-align: top;\n",
       "    }\n",
       "\n",
       "    .dataframe thead th {\n",
       "        text-align: right;\n",
       "    }\n",
       "</style>\n",
       "<table border=\"1\" class=\"dataframe\">\n",
       "  <thead>\n",
       "    <tr style=\"text-align: right;\">\n",
       "      <th></th>\n",
       "      <th>Date</th>\n",
       "      <th>Product Card Id</th>\n",
       "      <th>Department Id</th>\n",
       "      <th>Quantity</th>\n",
       "      <th>In Stock</th>\n",
       "      <th>New Stock Arrival</th>\n",
       "    </tr>\n",
       "  </thead>\n",
       "  <tbody>\n",
       "    <tr>\n",
       "      <th>121</th>\n",
       "      <td>2015-01-06</td>\n",
       "      <td>627</td>\n",
       "      <td>5</td>\n",
       "      <td>34</td>\n",
       "      <td>319.0</td>\n",
       "      <td>1</td>\n",
       "    </tr>\n",
       "    <tr>\n",
       "      <th>158</th>\n",
       "      <td>2015-01-08</td>\n",
       "      <td>365</td>\n",
       "      <td>4</td>\n",
       "      <td>83</td>\n",
       "      <td>80.0</td>\n",
       "      <td>1</td>\n",
       "    </tr>\n",
       "    <tr>\n",
       "      <th>182</th>\n",
       "      <td>2015-01-09</td>\n",
       "      <td>365</td>\n",
       "      <td>4</td>\n",
       "      <td>79</td>\n",
       "      <td>476.0</td>\n",
       "      <td>1</td>\n",
       "    </tr>\n",
       "    <tr>\n",
       "      <th>229</th>\n",
       "      <td>2015-01-11</td>\n",
       "      <td>502</td>\n",
       "      <td>5</td>\n",
       "      <td>67</td>\n",
       "      <td>344.0</td>\n",
       "      <td>1</td>\n",
       "    </tr>\n",
       "    <tr>\n",
       "      <th>318</th>\n",
       "      <td>2015-01-14</td>\n",
       "      <td>1014</td>\n",
       "      <td>7</td>\n",
       "      <td>62</td>\n",
       "      <td>371.0</td>\n",
       "      <td>1</td>\n",
       "    </tr>\n",
       "  </tbody>\n",
       "</table>\n",
       "</div>"
      ],
      "text/plain": [
       "           Date  Product Card Id  Department Id  Quantity  In Stock  \\\n",
       "121  2015-01-06              627              5        34     319.0   \n",
       "158  2015-01-08              365              4        83      80.0   \n",
       "182  2015-01-09              365              4        79     476.0   \n",
       "229  2015-01-11              502              5        67     344.0   \n",
       "318  2015-01-14             1014              7        62     371.0   \n",
       "\n",
       "     New Stock Arrival  \n",
       "121                  1  \n",
       "158                  1  \n",
       "182                  1  \n",
       "229                  1  \n",
       "318                  1  "
      ]
     },
     "execution_count": 130,
     "metadata": {},
     "output_type": "execute_result"
    }
   ],
   "source": [
    "order_df[order_df['New Stock Arrival']> 0].head()"
   ]
  },
  {
   "cell_type": "code",
   "execution_count": 131,
   "id": "732f0979-a6d2-4043-a956-6fe9e7d3a376",
   "metadata": {},
   "outputs": [
    {
     "name": "stdout",
     "output_type": "stream",
     "text": [
      "order_df saved to processed_orders.xlsx successfully.\n"
     ]
    }
   ],
   "source": [
    "order_df.to_excel('FakeInventory.xlsx', index=False)\n",
    "\n",
    "print(\"order_df saved to processed_orders.xlsx successfully.\")"
   ]
  }
 ],
 "metadata": {
  "kernelspec": {
   "display_name": "Python 3 (ipykernel)",
   "language": "python",
   "name": "python3"
  },
  "language_info": {
   "codemirror_mode": {
    "name": "ipython",
    "version": 3
   },
   "file_extension": ".py",
   "mimetype": "text/x-python",
   "name": "python",
   "nbconvert_exporter": "python",
   "pygments_lexer": "ipython3",
   "version": "3.11.5"
  }
 },
 "nbformat": 4,
 "nbformat_minor": 5
}
