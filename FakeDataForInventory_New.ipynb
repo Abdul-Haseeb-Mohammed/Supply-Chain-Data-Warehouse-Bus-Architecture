{
 "cells": [
  {
   "cell_type": "code",
   "execution_count": 1,
   "id": "4fe83683-7375-4453-a028-2555732459f4",
   "metadata": {},
   "outputs": [],
   "source": [
    "import pandas as pd\n",
    "import numpy as np\n",
    "\n",
    "# Load dataset into a DataFrame\n",
    "df = pd.read_csv('DataCoSupplyChainDataset.csv', encoding='latin-1')\n",
    "\n",
    "# Convert 'order date (DateOrders)' to datetime\n",
    "df['order date (DateOrders)'] = pd.to_datetime(df['order date (DateOrders)'])\n",
    "df['Date'] = df['order date (DateOrders)'].dt.date  # Extract date part only\n",
    "\n",
    "# Filter out rows where 'Delivery Status' is 'Shipping canceled'\n",
    "filtered_df = df[df['Delivery Status'] != 'Shipping canceled']\n",
    "\n",
    "# Group by orders to subtract daily orders of each product within each department from inventory\n",
    "order_df = filtered_df.groupby(['Date', 'Product Card Id', 'Department Id'])['Order Item Quantity'].sum().reset_index()\n",
    "order_df.rename(columns={'Order Item Quantity': 'Quantity'}, inplace=True)\n",
    "\n",
    "# Sort order_df by Date\n",
    "order_df.sort_values(by='Date', inplace=True)\n",
    "\n",
    "# Initialize a dictionary to store initial stock quantities and their start dates\n",
    "initial_stock = {}\n",
    "initial_stock_dates = {}\n",
    "\n",
    "# Set initial stock for each combination of Product Card Id and Department Id\n",
    "for (product_id, dept_id), group in order_df.groupby(['Product Card Id', 'Department Id']):\n",
    "    min_date = group['Date'].min()\n",
    "    initial_stock[(product_id, dept_id)] = np.random.randint(200, 250)  # Random number between 200 and 250\n",
    "    initial_stock_dates[(product_id, dept_id)] = min_date\n",
    "\n",
    "# Add 'In Stock' and 'New Stock Arrival' columns to order_df\n",
    "order_df['In Stock'] = np.nan\n",
    "order_df['New Stock Arrival'] = 0\n",
    "order_df['Replenish Amount'] = 0\n",
    "\n",
    "# Iterate through order_df to update 'In Stock' and 'New Stock Arrival'\n",
    "for index, row in order_df.iterrows():\n",
    "    product_id = row['Product Card Id']\n",
    "    department_id = row['Department Id']\n",
    "    date = row['Date']\n",
    "    order_quantity = row['Quantity']\n",
    "    \n",
    "    # Check if it's the first occurrence for this combination\n",
    "    if date == initial_stock_dates[(product_id, department_id)]:\n",
    "        # Set initial stock\n",
    "        order_df.loc[index, 'In Stock'] = initial_stock[(product_id, department_id)]\n",
    "    else:\n",
    "        # Find the previous index with the same product and department\n",
    "        prev_index = order_df[(order_df['Product Card Id'] == product_id) & \n",
    "                              (order_df['Department Id'] == department_id) &\n",
    "                              (order_df['Date'] < date)].index.max()\n",
    "        \n",
    "        if not np.isnan(prev_index):\n",
    "            # Subtract order quantity from 'In Stock' of the previous row\n",
    "            order_df.loc[index, 'In Stock'] = order_df.loc[prev_index, 'In Stock'] - order_quantity\n",
    "            \n",
    "            # Check if 'In Stock' goes below 133 and replenish\n",
    "            if order_df.loc[index, 'In Stock'] < 133:\n",
    "                replenish_amount = np.random.randint(133, 200)  # Random number between 133 and 200\n",
    "                order_df.loc[index, 'In Stock'] += replenish_amount\n",
    "                order_df.loc[index, 'New Stock Arrival'] = 1\n",
    "                order_df.loc[index, 'Replenish Amount'] = replenish_amount\n",
    "        else:\n",
    "            # Handle the case where no previous index is found\n",
    "            order_df.loc[index, 'In Stock'] = initial_stock[(product_id, department_id)]"
   ]
  },
  {
   "cell_type": "code",
   "execution_count": 2,
   "id": "8721d39d-b005-484c-8350-61442bd267e8",
   "metadata": {},
   "outputs": [],
   "source": [
    "# Rename 'Product Card Id' to 'Product Id'\n",
    "order_df.rename(columns={'Product Card Id': 'Product Id'}, inplace=True)\n",
    "\n",
    "# Add prefix 'D' to 'Department Id'\n",
    "order_df['Department Id'] = 'D' + order_df['Department Id'].astype(str)"
   ]
  },
  {
   "cell_type": "code",
   "execution_count": 3,
   "id": "44389bae-ddf0-4f88-9fce-ee054042443b",
   "metadata": {},
   "outputs": [
    {
     "data": {
      "text/plain": [
       "21787"
      ]
     },
     "execution_count": 3,
     "metadata": {},
     "output_type": "execute_result"
    }
   ],
   "source": [
    "len(order_df)"
   ]
  },
  {
   "cell_type": "code",
   "execution_count": 4,
   "id": "9a18e60e-8d22-4972-8ca6-a984d352a176",
   "metadata": {},
   "outputs": [
    {
     "data": {
      "text/html": [
       "<div>\n",
       "<style scoped>\n",
       "    .dataframe tbody tr th:only-of-type {\n",
       "        vertical-align: middle;\n",
       "    }\n",
       "\n",
       "    .dataframe tbody tr th {\n",
       "        vertical-align: top;\n",
       "    }\n",
       "\n",
       "    .dataframe thead th {\n",
       "        text-align: right;\n",
       "    }\n",
       "</style>\n",
       "<table border=\"1\" class=\"dataframe\">\n",
       "  <thead>\n",
       "    <tr style=\"text-align: right;\">\n",
       "      <th></th>\n",
       "      <th>Date</th>\n",
       "      <th>Product Id</th>\n",
       "      <th>Department Id</th>\n",
       "      <th>Quantity</th>\n",
       "      <th>In Stock</th>\n",
       "      <th>New Stock Arrival</th>\n",
       "      <th>Replenish Amount</th>\n",
       "    </tr>\n",
       "  </thead>\n",
       "  <tbody>\n",
       "    <tr>\n",
       "      <th>21702</th>\n",
       "      <td>2017-12-02</td>\n",
       "      <td>1360</td>\n",
       "      <td>D2</td>\n",
       "      <td>17</td>\n",
       "      <td>232.0</td>\n",
       "      <td>0</td>\n",
       "      <td>0</td>\n",
       "    </tr>\n",
       "    <tr>\n",
       "      <th>21703</th>\n",
       "      <td>2017-12-03</td>\n",
       "      <td>1360</td>\n",
       "      <td>D2</td>\n",
       "      <td>65</td>\n",
       "      <td>167.0</td>\n",
       "      <td>0</td>\n",
       "      <td>0</td>\n",
       "    </tr>\n",
       "    <tr>\n",
       "      <th>21704</th>\n",
       "      <td>2017-12-04</td>\n",
       "      <td>1360</td>\n",
       "      <td>D2</td>\n",
       "      <td>55</td>\n",
       "      <td>263.0</td>\n",
       "      <td>1</td>\n",
       "      <td>151</td>\n",
       "    </tr>\n",
       "    <tr>\n",
       "      <th>21759</th>\n",
       "      <td>2018-01-10</td>\n",
       "      <td>1360</td>\n",
       "      <td>D2</td>\n",
       "      <td>35</td>\n",
       "      <td>228.0</td>\n",
       "      <td>0</td>\n",
       "      <td>0</td>\n",
       "    </tr>\n",
       "    <tr>\n",
       "      <th>21760</th>\n",
       "      <td>2018-01-11</td>\n",
       "      <td>1360</td>\n",
       "      <td>D2</td>\n",
       "      <td>66</td>\n",
       "      <td>162.0</td>\n",
       "      <td>0</td>\n",
       "      <td>0</td>\n",
       "    </tr>\n",
       "  </tbody>\n",
       "</table>\n",
       "</div>"
      ],
      "text/plain": [
       "             Date  Product Id Department Id  Quantity  In Stock  \\\n",
       "21702  2017-12-02        1360            D2        17     232.0   \n",
       "21703  2017-12-03        1360            D2        65     167.0   \n",
       "21704  2017-12-04        1360            D2        55     263.0   \n",
       "21759  2018-01-10        1360            D2        35     228.0   \n",
       "21760  2018-01-11        1360            D2        66     162.0   \n",
       "\n",
       "       New Stock Arrival  Replenish Amount  \n",
       "21702                  0                 0  \n",
       "21703                  0                 0  \n",
       "21704                  1               151  \n",
       "21759                  0                 0  \n",
       "21760                  0                 0  "
      ]
     },
     "execution_count": 4,
     "metadata": {},
     "output_type": "execute_result"
    }
   ],
   "source": [
    "order_df[(order_df['Department Id'] == 'D2') & (order_df['Product Id'] == 1360)].head()"
   ]
  },
  {
   "cell_type": "code",
   "execution_count": 5,
   "id": "fd40e07b-eb16-448b-b299-9101114b70ed",
   "metadata": {
    "scrolled": true
   },
   "outputs": [
    {
     "data": {
      "text/html": [
       "<div>\n",
       "<style scoped>\n",
       "    .dataframe tbody tr th:only-of-type {\n",
       "        vertical-align: middle;\n",
       "    }\n",
       "\n",
       "    .dataframe tbody tr th {\n",
       "        vertical-align: top;\n",
       "    }\n",
       "\n",
       "    .dataframe thead th {\n",
       "        text-align: right;\n",
       "    }\n",
       "</style>\n",
       "<table border=\"1\" class=\"dataframe\">\n",
       "  <thead>\n",
       "    <tr style=\"text-align: right;\">\n",
       "      <th></th>\n",
       "      <th>Date</th>\n",
       "      <th>Product Id</th>\n",
       "      <th>Department Id</th>\n",
       "      <th>Quantity</th>\n",
       "      <th>In Stock</th>\n",
       "      <th>New Stock Arrival</th>\n",
       "      <th>Replenish Amount</th>\n",
       "    </tr>\n",
       "  </thead>\n",
       "  <tbody>\n",
       "    <tr>\n",
       "      <th>63</th>\n",
       "      <td>2015-01-03</td>\n",
       "      <td>1014</td>\n",
       "      <td>D7</td>\n",
       "      <td>54</td>\n",
       "      <td>265.0</td>\n",
       "      <td>1</td>\n",
       "      <td>153</td>\n",
       "    </tr>\n",
       "    <tr>\n",
       "      <th>47</th>\n",
       "      <td>2015-01-03</td>\n",
       "      <td>365</td>\n",
       "      <td>D4</td>\n",
       "      <td>73</td>\n",
       "      <td>233.0</td>\n",
       "      <td>1</td>\n",
       "      <td>134</td>\n",
       "    </tr>\n",
       "    <tr>\n",
       "      <th>44</th>\n",
       "      <td>2015-01-03</td>\n",
       "      <td>191</td>\n",
       "      <td>D3</td>\n",
       "      <td>59</td>\n",
       "      <td>260.0</td>\n",
       "      <td>1</td>\n",
       "      <td>134</td>\n",
       "    </tr>\n",
       "    <tr>\n",
       "      <th>71</th>\n",
       "      <td>2015-01-04</td>\n",
       "      <td>502</td>\n",
       "      <td>D5</td>\n",
       "      <td>75</td>\n",
       "      <td>277.0</td>\n",
       "      <td>1</td>\n",
       "      <td>198</td>\n",
       "    </tr>\n",
       "    <tr>\n",
       "      <th>73</th>\n",
       "      <td>2015-01-04</td>\n",
       "      <td>627</td>\n",
       "      <td>D5</td>\n",
       "      <td>50</td>\n",
       "      <td>285.0</td>\n",
       "      <td>1</td>\n",
       "      <td>170</td>\n",
       "    </tr>\n",
       "  </tbody>\n",
       "</table>\n",
       "</div>"
      ],
      "text/plain": [
       "          Date  Product Id Department Id  Quantity  In Stock  \\\n",
       "63  2015-01-03        1014            D7        54     265.0   \n",
       "47  2015-01-03         365            D4        73     233.0   \n",
       "44  2015-01-03         191            D3        59     260.0   \n",
       "71  2015-01-04         502            D5        75     277.0   \n",
       "73  2015-01-04         627            D5        50     285.0   \n",
       "\n",
       "    New Stock Arrival  Replenish Amount  \n",
       "63                  1               153  \n",
       "47                  1               134  \n",
       "44                  1               134  \n",
       "71                  1               198  \n",
       "73                  1               170  "
      ]
     },
     "execution_count": 5,
     "metadata": {},
     "output_type": "execute_result"
    }
   ],
   "source": [
    "order_df[order_df['New Stock Arrival']> 0].head()"
   ]
  },
  {
   "cell_type": "code",
   "execution_count": 6,
   "id": "bf6dff2d-4548-466b-a322-8763e6b4aa79",
   "metadata": {
    "scrolled": true
   },
   "outputs": [
    {
     "data": {
      "text/plain": [
       "2194"
      ]
     },
     "execution_count": 6,
     "metadata": {},
     "output_type": "execute_result"
    }
   ],
   "source": [
    "len(order_df[order_df['New Stock Arrival']>0])"
   ]
  },
  {
   "cell_type": "code",
   "execution_count": 7,
   "id": "bf14e5e5-45b9-49cc-bc51-90c4dda57d19",
   "metadata": {},
   "outputs": [
    {
     "data": {
      "text/plain": [
       "array(['D2', 'D7', 'D6', 'D3', 'D4', 'D5', 'D8', 'D9', 'D10', 'D12',\n",
       "       'D11'], dtype=object)"
      ]
     },
     "execution_count": 7,
     "metadata": {},
     "output_type": "execute_result"
    }
   ],
   "source": [
    "# One supplier for each department\n",
    "unique_departments = order_df['Department Id'].unique()\n",
    "unique_departments"
   ]
  },
  {
   "cell_type": "code",
   "execution_count": 8,
   "id": "4f547ed9-fe46-424d-992f-9d082cdfba82",
   "metadata": {},
   "outputs": [],
   "source": [
    "num_departments = len(unique_departments)"
   ]
  },
  {
   "cell_type": "code",
   "execution_count": 9,
   "id": "ca1d91a2-8793-4da1-9a7f-5fd294357234",
   "metadata": {},
   "outputs": [],
   "source": [
    "from faker import Faker\n",
    "import random\n",
    "import pandas as pd\n",
    "\n",
    "# Initialize Faker\n",
    "fake = Faker()\n",
    "\n",
    "# Function to generate a realistic 10-digit phone number in the format XXX-XXX-XXXX\n",
    "def generate_phone_number():\n",
    "    area_code = random.randint(100, 999)  # Area code range from 100 to 999\n",
    "    central_office_code = random.randint(100, 999)  # Central office code range from 100 to 999\n",
    "    subscriber_number = random.randint(1000, 9999)  # Subscriber number range from 1000 to 9999\n",
    "    return f'{area_code}-{central_office_code}-{subscriber_number}'\n",
    "\n",
    "num_departments = len(unique_departments)\n",
    "unique_departments = order_df['Department Id'].unique()  # Example line to get unique departments\n",
    "\n",
    "# Create lists for the supplier data\n",
    "supplier_ids = [f'S{i}' for i in range(1, num_departments + 1)]  # Prefix 'S' added to each Supplier ID\n",
    "department_ids = unique_departments\n",
    "supplier_names = [fake.company() for _ in range(num_departments)]\n",
    "contact_names = [fake.name() for _ in range(num_departments)]\n",
    "contact_emails = [fake.email() for _ in range(num_departments)]\n",
    "phone_numbers = [generate_phone_number() for _ in range(num_departments)]  # Ensure formatted phone numbers\n",
    "\n",
    "# Create a DataFrame to store supplier information\n",
    "supplier_df = pd.DataFrame({\n",
    "    'Supplier ID': supplier_ids,\n",
    "    'Department Id': department_ids,\n",
    "    'Supplier Name': supplier_names,\n",
    "    'Contact Name': contact_names,\n",
    "    'Contact Email': contact_emails,\n",
    "    'Phone Number': phone_numbers\n",
    "})"
   ]
  },
  {
   "cell_type": "code",
   "execution_count": 10,
   "id": "cee05aaa-de29-473d-b02c-be7987f54ba0",
   "metadata": {},
   "outputs": [
    {
     "data": {
      "text/html": [
       "<div>\n",
       "<style scoped>\n",
       "    .dataframe tbody tr th:only-of-type {\n",
       "        vertical-align: middle;\n",
       "    }\n",
       "\n",
       "    .dataframe tbody tr th {\n",
       "        vertical-align: top;\n",
       "    }\n",
       "\n",
       "    .dataframe thead th {\n",
       "        text-align: right;\n",
       "    }\n",
       "</style>\n",
       "<table border=\"1\" class=\"dataframe\">\n",
       "  <thead>\n",
       "    <tr style=\"text-align: right;\">\n",
       "      <th></th>\n",
       "      <th>Supplier ID</th>\n",
       "      <th>Department Id</th>\n",
       "      <th>Supplier Name</th>\n",
       "      <th>Contact Name</th>\n",
       "      <th>Contact Email</th>\n",
       "      <th>Phone Number</th>\n",
       "    </tr>\n",
       "  </thead>\n",
       "  <tbody>\n",
       "    <tr>\n",
       "      <th>0</th>\n",
       "      <td>S1</td>\n",
       "      <td>D2</td>\n",
       "      <td>Garcia-Lopez</td>\n",
       "      <td>Brian Smith</td>\n",
       "      <td>breanna88@example.net</td>\n",
       "      <td>338-625-6146</td>\n",
       "    </tr>\n",
       "    <tr>\n",
       "      <th>1</th>\n",
       "      <td>S2</td>\n",
       "      <td>D7</td>\n",
       "      <td>Boone Ltd</td>\n",
       "      <td>Mr. Scott Conrad</td>\n",
       "      <td>diamondmacdonald@example.net</td>\n",
       "      <td>827-419-4819</td>\n",
       "    </tr>\n",
       "    <tr>\n",
       "      <th>2</th>\n",
       "      <td>S3</td>\n",
       "      <td>D6</td>\n",
       "      <td>Young-Mosley</td>\n",
       "      <td>Richard Cox</td>\n",
       "      <td>kelly17@example.org</td>\n",
       "      <td>380-602-6805</td>\n",
       "    </tr>\n",
       "    <tr>\n",
       "      <th>3</th>\n",
       "      <td>S4</td>\n",
       "      <td>D3</td>\n",
       "      <td>Stevens-Austin</td>\n",
       "      <td>Robert Brown</td>\n",
       "      <td>jonathanwilliams@example.org</td>\n",
       "      <td>961-397-8129</td>\n",
       "    </tr>\n",
       "    <tr>\n",
       "      <th>4</th>\n",
       "      <td>S5</td>\n",
       "      <td>D4</td>\n",
       "      <td>White-Baldwin</td>\n",
       "      <td>Aaron Silva</td>\n",
       "      <td>miranda69@example.org</td>\n",
       "      <td>530-804-3630</td>\n",
       "    </tr>\n",
       "    <tr>\n",
       "      <th>5</th>\n",
       "      <td>S6</td>\n",
       "      <td>D5</td>\n",
       "      <td>Gray LLC</td>\n",
       "      <td>Nathaniel Coleman</td>\n",
       "      <td>guzmanjames@example.com</td>\n",
       "      <td>537-974-2039</td>\n",
       "    </tr>\n",
       "    <tr>\n",
       "      <th>6</th>\n",
       "      <td>S7</td>\n",
       "      <td>D8</td>\n",
       "      <td>Conway, Spencer and Green</td>\n",
       "      <td>Tonya Maynard</td>\n",
       "      <td>jeffrey42@example.org</td>\n",
       "      <td>725-778-3599</td>\n",
       "    </tr>\n",
       "    <tr>\n",
       "      <th>7</th>\n",
       "      <td>S8</td>\n",
       "      <td>D9</td>\n",
       "      <td>Kelly PLC</td>\n",
       "      <td>Tammy Walker</td>\n",
       "      <td>rwalker@example.com</td>\n",
       "      <td>975-824-2186</td>\n",
       "    </tr>\n",
       "    <tr>\n",
       "      <th>8</th>\n",
       "      <td>S9</td>\n",
       "      <td>D10</td>\n",
       "      <td>Ingram Group</td>\n",
       "      <td>Nathan Davidson</td>\n",
       "      <td>lorismith@example.com</td>\n",
       "      <td>543-610-5029</td>\n",
       "    </tr>\n",
       "    <tr>\n",
       "      <th>9</th>\n",
       "      <td>S10</td>\n",
       "      <td>D12</td>\n",
       "      <td>Allen PLC</td>\n",
       "      <td>Annette Casey</td>\n",
       "      <td>meganmurphy@example.net</td>\n",
       "      <td>923-327-9025</td>\n",
       "    </tr>\n",
       "    <tr>\n",
       "      <th>10</th>\n",
       "      <td>S11</td>\n",
       "      <td>D11</td>\n",
       "      <td>Mcdonald, Yu and Proctor</td>\n",
       "      <td>Deborah Jones</td>\n",
       "      <td>valerielee@example.net</td>\n",
       "      <td>439-882-1725</td>\n",
       "    </tr>\n",
       "  </tbody>\n",
       "</table>\n",
       "</div>"
      ],
      "text/plain": [
       "   Supplier ID Department Id              Supplier Name       Contact Name  \\\n",
       "0           S1            D2               Garcia-Lopez        Brian Smith   \n",
       "1           S2            D7                  Boone Ltd   Mr. Scott Conrad   \n",
       "2           S3            D6               Young-Mosley        Richard Cox   \n",
       "3           S4            D3             Stevens-Austin       Robert Brown   \n",
       "4           S5            D4              White-Baldwin        Aaron Silva   \n",
       "5           S6            D5                   Gray LLC  Nathaniel Coleman   \n",
       "6           S7            D8  Conway, Spencer and Green      Tonya Maynard   \n",
       "7           S8            D9                  Kelly PLC       Tammy Walker   \n",
       "8           S9           D10               Ingram Group    Nathan Davidson   \n",
       "9          S10           D12                  Allen PLC      Annette Casey   \n",
       "10         S11           D11   Mcdonald, Yu and Proctor      Deborah Jones   \n",
       "\n",
       "                   Contact Email  Phone Number  \n",
       "0          breanna88@example.net  338-625-6146  \n",
       "1   diamondmacdonald@example.net  827-419-4819  \n",
       "2            kelly17@example.org  380-602-6805  \n",
       "3   jonathanwilliams@example.org  961-397-8129  \n",
       "4          miranda69@example.org  530-804-3630  \n",
       "5        guzmanjames@example.com  537-974-2039  \n",
       "6          jeffrey42@example.org  725-778-3599  \n",
       "7            rwalker@example.com  975-824-2186  \n",
       "8          lorismith@example.com  543-610-5029  \n",
       "9        meganmurphy@example.net  923-327-9025  \n",
       "10        valerielee@example.net  439-882-1725  "
      ]
     },
     "execution_count": 10,
     "metadata": {},
     "output_type": "execute_result"
    }
   ],
   "source": [
    "supplier_df"
   ]
  },
  {
   "cell_type": "code",
   "execution_count": 11,
   "id": "79d5bce2-26bc-4489-b7ab-2d678f7e13e8",
   "metadata": {},
   "outputs": [],
   "source": [
    "# Save supplier information to an Excel file\n",
    "supplier_df.to_excel('suppliers.xlsx', index=False)"
   ]
  },
  {
   "cell_type": "code",
   "execution_count": 12,
   "id": "9253d007-f90d-4e1e-85c2-ee73d43f927b",
   "metadata": {},
   "outputs": [
    {
     "data": {
      "text/plain": [
       "{'D2': 'S1',\n",
       " 'D7': 'S2',\n",
       " 'D6': 'S3',\n",
       " 'D3': 'S4',\n",
       " 'D4': 'S5',\n",
       " 'D5': 'S6',\n",
       " 'D8': 'S7',\n",
       " 'D9': 'S8',\n",
       " 'D10': 'S9',\n",
       " 'D12': 'S10',\n",
       " 'D11': 'S11'}"
      ]
     },
     "execution_count": 12,
     "metadata": {},
     "output_type": "execute_result"
    }
   ],
   "source": [
    "department_supplier_map = supplier_df.set_index('Department Id')['Supplier ID'].to_dict()\n",
    "department_supplier_map"
   ]
  },
  {
   "cell_type": "code",
   "execution_count": 13,
   "id": "76e3536c-fef6-40b0-a81e-d9eeef7ba978",
   "metadata": {},
   "outputs": [
    {
     "data": {
      "text/html": [
       "<div>\n",
       "<style scoped>\n",
       "    .dataframe tbody tr th:only-of-type {\n",
       "        vertical-align: middle;\n",
       "    }\n",
       "\n",
       "    .dataframe tbody tr th {\n",
       "        vertical-align: top;\n",
       "    }\n",
       "\n",
       "    .dataframe thead th {\n",
       "        text-align: right;\n",
       "    }\n",
       "</style>\n",
       "<table border=\"1\" class=\"dataframe\">\n",
       "  <thead>\n",
       "    <tr style=\"text-align: right;\">\n",
       "      <th></th>\n",
       "      <th>Supplier ID</th>\n",
       "      <th>Department Id</th>\n",
       "      <th>Supplier Name</th>\n",
       "      <th>Contact Name</th>\n",
       "      <th>Contact Email</th>\n",
       "      <th>Phone Number</th>\n",
       "    </tr>\n",
       "  </thead>\n",
       "  <tbody>\n",
       "    <tr>\n",
       "      <th>0</th>\n",
       "      <td>S1</td>\n",
       "      <td>D2</td>\n",
       "      <td>Garcia-Lopez</td>\n",
       "      <td>Brian Smith</td>\n",
       "      <td>breanna88@example.net</td>\n",
       "      <td>338-625-6146</td>\n",
       "    </tr>\n",
       "    <tr>\n",
       "      <th>1</th>\n",
       "      <td>S2</td>\n",
       "      <td>D7</td>\n",
       "      <td>Boone Ltd</td>\n",
       "      <td>Mr. Scott Conrad</td>\n",
       "      <td>diamondmacdonald@example.net</td>\n",
       "      <td>827-419-4819</td>\n",
       "    </tr>\n",
       "    <tr>\n",
       "      <th>2</th>\n",
       "      <td>S3</td>\n",
       "      <td>D6</td>\n",
       "      <td>Young-Mosley</td>\n",
       "      <td>Richard Cox</td>\n",
       "      <td>kelly17@example.org</td>\n",
       "      <td>380-602-6805</td>\n",
       "    </tr>\n",
       "    <tr>\n",
       "      <th>3</th>\n",
       "      <td>S4</td>\n",
       "      <td>D3</td>\n",
       "      <td>Stevens-Austin</td>\n",
       "      <td>Robert Brown</td>\n",
       "      <td>jonathanwilliams@example.org</td>\n",
       "      <td>961-397-8129</td>\n",
       "    </tr>\n",
       "    <tr>\n",
       "      <th>4</th>\n",
       "      <td>S5</td>\n",
       "      <td>D4</td>\n",
       "      <td>White-Baldwin</td>\n",
       "      <td>Aaron Silva</td>\n",
       "      <td>miranda69@example.org</td>\n",
       "      <td>530-804-3630</td>\n",
       "    </tr>\n",
       "  </tbody>\n",
       "</table>\n",
       "</div>"
      ],
      "text/plain": [
       "  Supplier ID Department Id   Supplier Name      Contact Name  \\\n",
       "0          S1            D2    Garcia-Lopez       Brian Smith   \n",
       "1          S2            D7       Boone Ltd  Mr. Scott Conrad   \n",
       "2          S3            D6    Young-Mosley       Richard Cox   \n",
       "3          S4            D3  Stevens-Austin      Robert Brown   \n",
       "4          S5            D4   White-Baldwin       Aaron Silva   \n",
       "\n",
       "                  Contact Email  Phone Number  \n",
       "0         breanna88@example.net  338-625-6146  \n",
       "1  diamondmacdonald@example.net  827-419-4819  \n",
       "2           kelly17@example.org  380-602-6805  \n",
       "3  jonathanwilliams@example.org  961-397-8129  \n",
       "4         miranda69@example.org  530-804-3630  "
      ]
     },
     "execution_count": 13,
     "metadata": {},
     "output_type": "execute_result"
    }
   ],
   "source": [
    "supplier_df.head()"
   ]
  },
  {
   "cell_type": "code",
   "execution_count": 14,
   "id": "9845f3a2-2997-4f8f-acf6-74bc187224b2",
   "metadata": {},
   "outputs": [
    {
     "name": "stdout",
     "output_type": "stream",
     "text": [
      "   Department Id Supplier ID  New Stock Arrival\n",
      "0             D2         nan                  0\n",
      "23            D7         nan                  0\n",
      "22            D7         nan                  0\n",
      "21            D7         nan                  0\n",
      "20            D7         nan                  0\n"
     ]
    }
   ],
   "source": [
    "# Create a dictionary to map each department to its corresponding supplier ID\n",
    "department_supplier_map = supplier_df.set_index('Department Id')['Supplier ID'].to_dict()\n",
    "\n",
    "# Add the supplier column to order_df, setting it to null by default\n",
    "order_df['Supplier ID'] = np.nan\n",
    "order_df['Supplier ID'] = order_df['Supplier ID'].astype(str)\n",
    "\n",
    "# Update the 'Supplier ID' column only if 'New Stock Arrival' is 1\n",
    "order_df.loc[order_df['New Stock Arrival'] == 1, 'Supplier ID'] = order_df['Department Id'].map(department_supplier_map)\n",
    "\n",
    "# Convert Supplier ID to type int and fill na with -1 ensuring no match with supplier\n",
    "#order_df['Supplier ID'] = order_df['Supplier ID'].fillna(-1).astype(int)\n",
    "\n",
    "# Print the resulting order_df for inspection\n",
    "print(order_df[['Department Id', 'Supplier ID', 'New Stock Arrival']].head())"
   ]
  },
  {
   "cell_type": "code",
   "execution_count": 15,
   "id": "daafd142-2864-4f81-9452-e8b78e35eb96",
   "metadata": {},
   "outputs": [
    {
     "data": {
      "text/html": [
       "<div>\n",
       "<style scoped>\n",
       "    .dataframe tbody tr th:only-of-type {\n",
       "        vertical-align: middle;\n",
       "    }\n",
       "\n",
       "    .dataframe tbody tr th {\n",
       "        vertical-align: top;\n",
       "    }\n",
       "\n",
       "    .dataframe thead th {\n",
       "        text-align: right;\n",
       "    }\n",
       "</style>\n",
       "<table border=\"1\" class=\"dataframe\">\n",
       "  <thead>\n",
       "    <tr style=\"text-align: right;\">\n",
       "      <th></th>\n",
       "      <th>Date</th>\n",
       "      <th>Product Id</th>\n",
       "      <th>Department Id</th>\n",
       "      <th>Quantity</th>\n",
       "      <th>In Stock</th>\n",
       "      <th>New Stock Arrival</th>\n",
       "      <th>Replenish Amount</th>\n",
       "      <th>Supplier ID</th>\n",
       "    </tr>\n",
       "  </thead>\n",
       "  <tbody>\n",
       "    <tr>\n",
       "      <th>63</th>\n",
       "      <td>2015-01-03</td>\n",
       "      <td>1014</td>\n",
       "      <td>D7</td>\n",
       "      <td>54</td>\n",
       "      <td>265.0</td>\n",
       "      <td>1</td>\n",
       "      <td>153</td>\n",
       "      <td>S2</td>\n",
       "    </tr>\n",
       "    <tr>\n",
       "      <th>47</th>\n",
       "      <td>2015-01-03</td>\n",
       "      <td>365</td>\n",
       "      <td>D4</td>\n",
       "      <td>73</td>\n",
       "      <td>233.0</td>\n",
       "      <td>1</td>\n",
       "      <td>134</td>\n",
       "      <td>S5</td>\n",
       "    </tr>\n",
       "    <tr>\n",
       "      <th>44</th>\n",
       "      <td>2015-01-03</td>\n",
       "      <td>191</td>\n",
       "      <td>D3</td>\n",
       "      <td>59</td>\n",
       "      <td>260.0</td>\n",
       "      <td>1</td>\n",
       "      <td>134</td>\n",
       "      <td>S4</td>\n",
       "    </tr>\n",
       "    <tr>\n",
       "      <th>71</th>\n",
       "      <td>2015-01-04</td>\n",
       "      <td>502</td>\n",
       "      <td>D5</td>\n",
       "      <td>75</td>\n",
       "      <td>277.0</td>\n",
       "      <td>1</td>\n",
       "      <td>198</td>\n",
       "      <td>S6</td>\n",
       "    </tr>\n",
       "    <tr>\n",
       "      <th>73</th>\n",
       "      <td>2015-01-04</td>\n",
       "      <td>627</td>\n",
       "      <td>D5</td>\n",
       "      <td>50</td>\n",
       "      <td>285.0</td>\n",
       "      <td>1</td>\n",
       "      <td>170</td>\n",
       "      <td>S6</td>\n",
       "    </tr>\n",
       "  </tbody>\n",
       "</table>\n",
       "</div>"
      ],
      "text/plain": [
       "          Date  Product Id Department Id  Quantity  In Stock  \\\n",
       "63  2015-01-03        1014            D7        54     265.0   \n",
       "47  2015-01-03         365            D4        73     233.0   \n",
       "44  2015-01-03         191            D3        59     260.0   \n",
       "71  2015-01-04         502            D5        75     277.0   \n",
       "73  2015-01-04         627            D5        50     285.0   \n",
       "\n",
       "    New Stock Arrival  Replenish Amount Supplier ID  \n",
       "63                  1               153          S2  \n",
       "47                  1               134          S5  \n",
       "44                  1               134          S4  \n",
       "71                  1               198          S6  \n",
       "73                  1               170          S6  "
      ]
     },
     "execution_count": 15,
     "metadata": {},
     "output_type": "execute_result"
    }
   ],
   "source": [
    "order_df[order_df['New Stock Arrival'] == 1].head()"
   ]
  },
  {
   "cell_type": "code",
   "execution_count": 16,
   "id": "ece63f25-e062-4fbc-9ea4-0441a71cc188",
   "metadata": {},
   "outputs": [
    {
     "data": {
      "text/plain": [
       "array(['S1', 'S2', 'S3', 'S4', 'S5', 'S6', 'S7', 'S8', 'S9', 'S10', 'S11'],\n",
       "      dtype=object)"
      ]
     },
     "execution_count": 16,
     "metadata": {},
     "output_type": "execute_result"
    }
   ],
   "source": [
    "supplier_df['Supplier ID'].unique()"
   ]
  },
  {
   "cell_type": "code",
   "execution_count": 17,
   "id": "db404580-8bd0-4cab-b320-f2f0783cf2cf",
   "metadata": {
    "scrolled": true
   },
   "outputs": [
    {
     "data": {
      "text/plain": [
       "array(['D2', 'D7', 'D6', 'D3', 'D4', 'D5', 'D8', 'D9', 'D10', 'D12',\n",
       "       'D11'], dtype=object)"
      ]
     },
     "execution_count": 17,
     "metadata": {},
     "output_type": "execute_result"
    }
   ],
   "source": [
    "supplier_df['Department Id'].unique()"
   ]
  },
  {
   "cell_type": "code",
   "execution_count": 18,
   "id": "23578f73-dc35-4aff-aa62-ef175df1dc53",
   "metadata": {},
   "outputs": [
    {
     "data": {
      "text/plain": [
       "Index(['Date', 'Product Id', 'Department Id', 'Quantity', 'In Stock',\n",
       "       'New Stock Arrival', 'Replenish Amount', 'Supplier ID'],\n",
       "      dtype='object')"
      ]
     },
     "execution_count": 18,
     "metadata": {},
     "output_type": "execute_result"
    }
   ],
   "source": [
    "order_df.columns"
   ]
  },
  {
   "cell_type": "code",
   "execution_count": 19,
   "id": "9afff14f-d072-4155-82a9-f7d3fe723417",
   "metadata": {},
   "outputs": [],
   "source": [
    "# Merging order_df with df on 'Product Id' and 'Product Card Id' using a left join\n",
    "merged_df = order_df.merge(df[['Product Card Id', 'Product Category Id']].drop_duplicates(), \n",
    "                           left_on='Product Id', right_on='Product Card Id', how='left')\n",
    "\n",
    "# Dropping the 'Product Card Id' column as it's redundant after the merge\n",
    "merged_df.drop(columns=['Product Card Id'], inplace=True)"
   ]
  },
  {
   "cell_type": "code",
   "execution_count": 20,
   "id": "b487583e-a513-4aeb-b92c-b1e59d96628a",
   "metadata": {},
   "outputs": [
    {
     "name": "stdout",
     "output_type": "stream",
     "text": [
      "Merged_df saved to processed_orders.xlsx successfully.\n"
     ]
    }
   ],
   "source": [
    "merged_df.to_excel('FakeInventory_Final.xlsx', index=False)\n",
    "\n",
    "print(\"Merged_df saved to processed_orders.xlsx successfully.\")"
   ]
  }
 ],
 "metadata": {
  "kernelspec": {
   "display_name": "Python 3 (ipykernel)",
   "language": "python",
   "name": "python3"
  },
  "language_info": {
   "codemirror_mode": {
    "name": "ipython",
    "version": 3
   },
   "file_extension": ".py",
   "mimetype": "text/x-python",
   "name": "python",
   "nbconvert_exporter": "python",
   "pygments_lexer": "ipython3",
   "version": "3.11.5"
  }
 },
 "nbformat": 4,
 "nbformat_minor": 5
}
